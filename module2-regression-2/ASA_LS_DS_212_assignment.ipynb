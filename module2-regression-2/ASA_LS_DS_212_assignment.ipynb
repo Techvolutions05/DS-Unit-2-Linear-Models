{
 "cells": [
  {
   "cell_type": "markdown",
   "metadata": {
    "colab_type": "text",
    "id": "ARRTBmWUcNjo"
   },
   "source": [
    "Lambda School Data Science\n",
    "\n",
    "*Unit 2, Sprint 1, Module 2*\n",
    "\n",
    "---"
   ]
  },
  {
   "cell_type": "markdown",
   "metadata": {
    "colab_type": "text",
    "id": "7IXUfiQ2UKj6"
   },
   "source": [
    "# Regression 2\n",
    "\n",
    "## Assignment\n",
    "\n",
    "You'll continue to **predict how much it costs to rent an apartment in NYC,** using the dataset from renthop.com.\n",
    "\n",
    "- [ ] Do train/test split. Use data from April & May 2016 to train. Use data from June 2016 to test.\n",
    "- [ ] Engineer at least two new features. (See below for explanation & ideas.)\n",
    "- [ ] Fit a linear regression model with at least two features.\n",
    "- [ ] Get the model's coefficients and intercept.\n",
    "- [ ] Get regression metrics RMSE, MAE, and $R^2$, for both the train and test data.\n",
    "- [ ] What's the best test MAE you can get? Share your score and features used with your cohort on Slack!\n",
    "- [ ] As always, commit your notebook to your fork of the GitHub repo.\n",
    "\n",
    "\n",
    "#### [Feature Engineering](https://en.wikipedia.org/wiki/Feature_engineering)\n",
    "\n",
    "> \"Some machine learning projects succeed and some fail. What makes the difference? Easily the most important factor is the features used.\" — Pedro Domingos, [\"A Few Useful Things to Know about Machine Learning\"](https://homes.cs.washington.edu/~pedrod/papers/cacm12.pdf)\n",
    "\n",
    "> \"Coming up with features is difficult, time-consuming, requires expert knowledge. 'Applied machine learning' is basically feature engineering.\" — Andrew Ng, [Machine Learning and AI via Brain simulations](https://forum.stanford.edu/events/2011/2011slides/plenary/2011plenaryNg.pdf) \n",
    "\n",
    "> Feature engineering is the process of using domain knowledge of the data to create features that make machine learning algorithms work. \n",
    "\n",
    "#### Feature Ideas\n",
    "- Does the apartment have a description?\n",
    "- How long is the description?\n",
    "- How many total perks does each apartment have?\n",
    "- Are cats _or_ dogs allowed?\n",
    "- Are cats _and_ dogs allowed?\n",
    "- Total number of rooms (beds + baths)\n",
    "- Ratio of beds to baths\n",
    "- What's the neighborhood, based on address or latitude & longitude?\n",
    "\n",
    "## Stretch Goals\n",
    "- [ ] If you want more math, skim [_An Introduction to Statistical Learning_](http://faculty.marshall.usc.edu/gareth-james/ISL/ISLR%20Seventh%20Printing.pdf),  Chapter 3.1, Simple Linear Regression, & Chapter 3.2, Multiple Linear Regression\n",
    "- [ ] If you want more introduction, watch [Brandon Foltz, Statistics 101: Simple Linear Regression](https://www.youtube.com/watch?v=ZkjP5RJLQF4)\n",
    "(20 minutes, over 1 million views)\n",
    "- [ ] Add your own stretch goal(s) !"
   ]
  },
  {
   "cell_type": "code",
   "execution_count": 19,
   "metadata": {
    "colab": {},
    "colab_type": "code",
    "id": "o9eSnDYhUGD7"
   },
   "outputs": [],
   "source": [
    "%%capture\n",
    "import sys\n",
    "\n",
    "# If you're on Colab:\n",
    "if 'google.colab' in sys.modules:\n",
    "    DATA_PATH = 'https://raw.githubusercontent.com/LambdaSchool/DS-Unit-2-Applied-Modeling/master/data/'\n",
    "    !pip install category_encoders==2.*\n",
    "\n",
    "# If you're working locally:\n",
    "else:\n",
    "    DATA_PATH = '../data/'\n",
    "    \n",
    "# Ignore this Numpy warning when using Plotly Express:\n",
    "# FutureWarning: Method .ptp is deprecated and will be removed in a future version. Use numpy.ptp instead.\n",
    "import warnings\n",
    "warnings.filterwarnings(action='ignore', category=FutureWarning, module='numpy')"
   ]
  },
  {
   "cell_type": "code",
   "execution_count": 20,
   "metadata": {
    "colab": {},
    "colab_type": "code",
    "id": "cvrw-T3bZOuW"
   },
   "outputs": [],
   "source": [
    "import numpy as np\n",
    "import pandas as pd\n",
    "\n",
    "# Read New York City apartment rental listing data\n",
    "df = pd.read_csv(DATA_PATH+'apartments/renthop-nyc.csv')\n",
    "assert df.shape == (49352, 34)\n",
    "\n",
    "# Remove the most extreme 1% prices,\n",
    "# the most extreme .1% latitudes, &\n",
    "# the most extreme .1% longitudes\n",
    "df = df[(df['price'] >= np.percentile(df['price'], 0.5)) & \n",
    "        (df['price'] <= np.percentile(df['price'], 99.5)) & \n",
    "        (df['latitude'] >= np.percentile(df['latitude'], 0.05)) & \n",
    "        (df['latitude'] < np.percentile(df['latitude'], 99.95)) &\n",
    "        (df['longitude'] >= np.percentile(df['longitude'], 0.05)) & \n",
    "        (df['longitude'] <= np.percentile(df['longitude'], 99.95))]"
   ]
  },
  {
   "cell_type": "code",
   "execution_count": 21,
   "metadata": {
    "colab": {
     "base_uri": "https://localhost:8080/",
     "height": 745
    },
    "colab_type": "code",
    "id": "7xcv11tcwBM2",
    "outputId": "560b2942-29f5-4f4a-f91b-47b52f9d8194"
   },
   "outputs": [
    {
     "name": "stdout",
     "output_type": "stream",
     "text": [
      "<class 'pandas.core.frame.DataFrame'>\n",
      "Int64Index: 48817 entries, 0 to 49351\n",
      "Data columns (total 34 columns):\n",
      " #   Column                Non-Null Count  Dtype  \n",
      "---  ------                --------------  -----  \n",
      " 0   bathrooms             48817 non-null  float64\n",
      " 1   bedrooms              48817 non-null  int64  \n",
      " 2   created               48817 non-null  object \n",
      " 3   description           47392 non-null  object \n",
      " 4   display_address       48684 non-null  object \n",
      " 5   latitude              48817 non-null  float64\n",
      " 6   longitude             48817 non-null  float64\n",
      " 7   price                 48817 non-null  int64  \n",
      " 8   street_address        48807 non-null  object \n",
      " 9   interest_level        48817 non-null  object \n",
      " 10  elevator              48817 non-null  int64  \n",
      " 11  cats_allowed          48817 non-null  int64  \n",
      " 12  hardwood_floors       48817 non-null  int64  \n",
      " 13  dogs_allowed          48817 non-null  int64  \n",
      " 14  doorman               48817 non-null  int64  \n",
      " 15  dishwasher            48817 non-null  int64  \n",
      " 16  no_fee                48817 non-null  int64  \n",
      " 17  laundry_in_building   48817 non-null  int64  \n",
      " 18  fitness_center        48817 non-null  int64  \n",
      " 19  pre-war               48817 non-null  int64  \n",
      " 20  laundry_in_unit       48817 non-null  int64  \n",
      " 21  roof_deck             48817 non-null  int64  \n",
      " 22  outdoor_space         48817 non-null  int64  \n",
      " 23  dining_room           48817 non-null  int64  \n",
      " 24  high_speed_internet   48817 non-null  int64  \n",
      " 25  balcony               48817 non-null  int64  \n",
      " 26  swimming_pool         48817 non-null  int64  \n",
      " 27  new_construction      48817 non-null  int64  \n",
      " 28  terrace               48817 non-null  int64  \n",
      " 29  exclusive             48817 non-null  int64  \n",
      " 30  loft                  48817 non-null  int64  \n",
      " 31  garden_patio          48817 non-null  int64  \n",
      " 32  wheelchair_access     48817 non-null  int64  \n",
      " 33  common_outdoor_space  48817 non-null  int64  \n",
      "dtypes: float64(3), int64(26), object(5)\n",
      "memory usage: 13.0+ MB\n"
     ]
    }
   ],
   "source": [
    "df.info()"
   ]
  },
  {
   "cell_type": "code",
   "execution_count": 22,
   "metadata": {
    "colab": {
     "base_uri": "https://localhost:8080/",
     "height": 34
    },
    "colab_type": "code",
    "id": "yYxBhaIay_zu",
    "outputId": "01af2650-48be-4029-9364-7de5cc02954e"
   },
   "outputs": [
    {
     "data": {
      "text/plain": [
       "(48817, 34)"
      ]
     },
     "execution_count": 22,
     "metadata": {
      "tags": []
     },
     "output_type": "execute_result"
    }
   ],
   "source": [
    "df.shape"
   ]
  },
  {
   "cell_type": "code",
   "execution_count": 23,
   "metadata": {
    "colab": {
     "base_uri": "https://localhost:8080/",
     "height": 176
    },
    "colab_type": "code",
    "id": "Rzrq60DGwCgQ",
    "outputId": "0e3abc4a-6a4b-4506-d1df-8cd5335e23e0"
   },
   "outputs": [
    {
     "data": {
      "text/plain": [
       "Index(['Monitor Street', 'W 55 St.', '1403 New York Avenue', 'W 89th St.',\n",
       "       'E 88th', 'Bay Pkwy', '154A Washington Ave', 'Berry St.',\n",
       "       '50 West 34th Street', '86-02 Forest Pkwy',\n",
       "       ...\n",
       "       '166 Orchard st', '14010 Franklin Avenue', 'wall st.', 'W. 31st Street',\n",
       "       ' Park Ave', '332 west 37th Street', 'williamsburg  NO FEE ', 'W 191st',\n",
       "       'LUXURY TWO BED HOME.......NO FEE!!!  AMAZING DEAL!!!!',\n",
       "       '56th & Lexington Ave'],\n",
       "      dtype='object', length=7356)"
      ]
     },
     "execution_count": 23,
     "metadata": {
      "tags": []
     },
     "output_type": "execute_result"
    }
   ],
   "source": [
    "df['display_address'].value_counts()[df['display_address'].value_counts() <= 5].index"
   ]
  },
  {
   "cell_type": "code",
   "execution_count": 24,
   "metadata": {
    "colab": {
     "base_uri": "https://localhost:8080/",
     "height": 501
    },
    "colab_type": "code",
    "id": "WsMqCe910wQe",
    "outputId": "a0c413d6-4d6d-4f4c-ad13-99a0a5b2609d"
   },
   "outputs": [
    {
     "data": {
      "text/html": [
       "<div>\n",
       "<style scoped>\n",
       "    .dataframe tbody tr th:only-of-type {\n",
       "        vertical-align: middle;\n",
       "    }\n",
       "\n",
       "    .dataframe tbody tr th {\n",
       "        vertical-align: top;\n",
       "    }\n",
       "\n",
       "    .dataframe thead th {\n",
       "        text-align: right;\n",
       "    }\n",
       "</style>\n",
       "<table border=\"1\" class=\"dataframe\">\n",
       "  <thead>\n",
       "    <tr style=\"text-align: right;\">\n",
       "      <th></th>\n",
       "      <th>bathrooms</th>\n",
       "      <th>bedrooms</th>\n",
       "      <th>created</th>\n",
       "      <th>description</th>\n",
       "      <th>display_address</th>\n",
       "      <th>latitude</th>\n",
       "      <th>longitude</th>\n",
       "      <th>price</th>\n",
       "      <th>street_address</th>\n",
       "      <th>interest_level</th>\n",
       "      <th>elevator</th>\n",
       "      <th>cats_allowed</th>\n",
       "      <th>hardwood_floors</th>\n",
       "      <th>dogs_allowed</th>\n",
       "      <th>doorman</th>\n",
       "      <th>dishwasher</th>\n",
       "      <th>no_fee</th>\n",
       "      <th>laundry_in_building</th>\n",
       "      <th>fitness_center</th>\n",
       "      <th>pre-war</th>\n",
       "      <th>laundry_in_unit</th>\n",
       "      <th>roof_deck</th>\n",
       "      <th>outdoor_space</th>\n",
       "      <th>dining_room</th>\n",
       "      <th>high_speed_internet</th>\n",
       "      <th>balcony</th>\n",
       "      <th>swimming_pool</th>\n",
       "      <th>new_construction</th>\n",
       "      <th>terrace</th>\n",
       "      <th>exclusive</th>\n",
       "      <th>loft</th>\n",
       "      <th>garden_patio</th>\n",
       "      <th>wheelchair_access</th>\n",
       "      <th>common_outdoor_space</th>\n",
       "    </tr>\n",
       "  </thead>\n",
       "  <tbody>\n",
       "    <tr>\n",
       "      <th>0</th>\n",
       "      <td>1.5</td>\n",
       "      <td>3</td>\n",
       "      <td>2016-06-24 07:54:24</td>\n",
       "      <td>A Brand New 3 Bedroom 1.5 bath ApartmentEnjoy ...</td>\n",
       "      <td>Metropolitan Avenue</td>\n",
       "      <td>40.7145</td>\n",
       "      <td>-73.9425</td>\n",
       "      <td>3000</td>\n",
       "      <td>792 Metropolitan Avenue</td>\n",
       "      <td>medium</td>\n",
       "      <td>0</td>\n",
       "      <td>0</td>\n",
       "      <td>0</td>\n",
       "      <td>0</td>\n",
       "      <td>0</td>\n",
       "      <td>0</td>\n",
       "      <td>0</td>\n",
       "      <td>0</td>\n",
       "      <td>0</td>\n",
       "      <td>0</td>\n",
       "      <td>0</td>\n",
       "      <td>0</td>\n",
       "      <td>0</td>\n",
       "      <td>0</td>\n",
       "      <td>0</td>\n",
       "      <td>0</td>\n",
       "      <td>0</td>\n",
       "      <td>0</td>\n",
       "      <td>0</td>\n",
       "      <td>0</td>\n",
       "      <td>0</td>\n",
       "      <td>0</td>\n",
       "      <td>0</td>\n",
       "      <td>0</td>\n",
       "    </tr>\n",
       "    <tr>\n",
       "      <th>1</th>\n",
       "      <td>1.0</td>\n",
       "      <td>2</td>\n",
       "      <td>2016-06-12 12:19:27</td>\n",
       "      <td></td>\n",
       "      <td>Columbus Avenue</td>\n",
       "      <td>40.7947</td>\n",
       "      <td>-73.9667</td>\n",
       "      <td>5465</td>\n",
       "      <td>808 Columbus Avenue</td>\n",
       "      <td>low</td>\n",
       "      <td>1</td>\n",
       "      <td>1</td>\n",
       "      <td>0</td>\n",
       "      <td>1</td>\n",
       "      <td>1</td>\n",
       "      <td>0</td>\n",
       "      <td>0</td>\n",
       "      <td>0</td>\n",
       "      <td>1</td>\n",
       "      <td>0</td>\n",
       "      <td>0</td>\n",
       "      <td>0</td>\n",
       "      <td>0</td>\n",
       "      <td>0</td>\n",
       "      <td>0</td>\n",
       "      <td>0</td>\n",
       "      <td>0</td>\n",
       "      <td>0</td>\n",
       "      <td>0</td>\n",
       "      <td>0</td>\n",
       "      <td>0</td>\n",
       "      <td>0</td>\n",
       "      <td>0</td>\n",
       "      <td>0</td>\n",
       "    </tr>\n",
       "    <tr>\n",
       "      <th>2</th>\n",
       "      <td>1.0</td>\n",
       "      <td>1</td>\n",
       "      <td>2016-04-17 03:26:41</td>\n",
       "      <td>Top Top West Village location, beautiful Pre-w...</td>\n",
       "      <td>W 13 Street</td>\n",
       "      <td>40.7388</td>\n",
       "      <td>-74.0018</td>\n",
       "      <td>2850</td>\n",
       "      <td>241 W 13 Street</td>\n",
       "      <td>high</td>\n",
       "      <td>0</td>\n",
       "      <td>0</td>\n",
       "      <td>1</td>\n",
       "      <td>0</td>\n",
       "      <td>0</td>\n",
       "      <td>1</td>\n",
       "      <td>0</td>\n",
       "      <td>1</td>\n",
       "      <td>0</td>\n",
       "      <td>0</td>\n",
       "      <td>0</td>\n",
       "      <td>0</td>\n",
       "      <td>0</td>\n",
       "      <td>0</td>\n",
       "      <td>0</td>\n",
       "      <td>0</td>\n",
       "      <td>0</td>\n",
       "      <td>0</td>\n",
       "      <td>0</td>\n",
       "      <td>0</td>\n",
       "      <td>0</td>\n",
       "      <td>0</td>\n",
       "      <td>0</td>\n",
       "      <td>0</td>\n",
       "    </tr>\n",
       "    <tr>\n",
       "      <th>3</th>\n",
       "      <td>1.0</td>\n",
       "      <td>1</td>\n",
       "      <td>2016-04-18 02:22:02</td>\n",
       "      <td>Building Amenities - Garage - Garden - fitness...</td>\n",
       "      <td>East 49th Street</td>\n",
       "      <td>40.7539</td>\n",
       "      <td>-73.9677</td>\n",
       "      <td>3275</td>\n",
       "      <td>333 East 49th Street</td>\n",
       "      <td>low</td>\n",
       "      <td>0</td>\n",
       "      <td>0</td>\n",
       "      <td>1</td>\n",
       "      <td>0</td>\n",
       "      <td>0</td>\n",
       "      <td>0</td>\n",
       "      <td>1</td>\n",
       "      <td>0</td>\n",
       "      <td>0</td>\n",
       "      <td>0</td>\n",
       "      <td>0</td>\n",
       "      <td>0</td>\n",
       "      <td>0</td>\n",
       "      <td>0</td>\n",
       "      <td>0</td>\n",
       "      <td>0</td>\n",
       "      <td>0</td>\n",
       "      <td>0</td>\n",
       "      <td>0</td>\n",
       "      <td>0</td>\n",
       "      <td>0</td>\n",
       "      <td>0</td>\n",
       "      <td>0</td>\n",
       "      <td>0</td>\n",
       "    </tr>\n",
       "    <tr>\n",
       "      <th>4</th>\n",
       "      <td>1.0</td>\n",
       "      <td>4</td>\n",
       "      <td>2016-04-28 01:32:41</td>\n",
       "      <td>Beautifully renovated 3 bedroom flex 4 bedroom...</td>\n",
       "      <td>West 143rd Street</td>\n",
       "      <td>40.8241</td>\n",
       "      <td>-73.9493</td>\n",
       "      <td>3350</td>\n",
       "      <td>500 West 143rd Street</td>\n",
       "      <td>low</td>\n",
       "      <td>0</td>\n",
       "      <td>0</td>\n",
       "      <td>0</td>\n",
       "      <td>0</td>\n",
       "      <td>0</td>\n",
       "      <td>0</td>\n",
       "      <td>0</td>\n",
       "      <td>0</td>\n",
       "      <td>0</td>\n",
       "      <td>1</td>\n",
       "      <td>0</td>\n",
       "      <td>0</td>\n",
       "      <td>0</td>\n",
       "      <td>0</td>\n",
       "      <td>0</td>\n",
       "      <td>0</td>\n",
       "      <td>0</td>\n",
       "      <td>0</td>\n",
       "      <td>0</td>\n",
       "      <td>0</td>\n",
       "      <td>0</td>\n",
       "      <td>0</td>\n",
       "      <td>0</td>\n",
       "      <td>0</td>\n",
       "    </tr>\n",
       "  </tbody>\n",
       "</table>\n",
       "</div>"
      ],
      "text/plain": [
       "   bathrooms  bedrooms  ... wheelchair_access common_outdoor_space\n",
       "0        1.5         3  ...                 0                    0\n",
       "1        1.0         2  ...                 0                    0\n",
       "2        1.0         1  ...                 0                    0\n",
       "3        1.0         1  ...                 0                    0\n",
       "4        1.0         4  ...                 0                    0\n",
       "\n",
       "[5 rows x 34 columns]"
      ]
     },
     "execution_count": 24,
     "metadata": {
      "tags": []
     },
     "output_type": "execute_result"
    }
   ],
   "source": [
    "df.head()"
   ]
  },
  {
   "cell_type": "code",
   "execution_count": 25,
   "metadata": {
    "colab": {},
    "colab_type": "code",
    "id": "jRcc4NGMzjsc"
   },
   "outputs": [],
   "source": [
    "# cleaning and reshaping dataset\n",
    "clean = df.copy()\n",
    "clean['has_description'] = ((clean['description'].isna()==False) & (clean['description'].str.strip().str.len() > 0)).replace({False: 0, True: 1})\n",
    "clean['created_dt'] = pd.to_datetime(clean['created'])\n",
    "\n",
    "clean['created_week'] = clean['created_dt'].dt.weekofyear\n",
    "\n",
    "# Replacing the column 'interest_lvl' from obj to int.\n",
    "clean['interest_numeric'] = clean['interest_level'].replace({'low':1,'medium':2,'high':3})\n",
    "\n",
    "# clean['is_broadway'] = clean['display_address']=='Broadway'\n",
    "clean['display_address'] = clean['display_address'].str.strip().str.lower()\n",
    "top_addresses = list(clean['display_address'].value_counts()[clean['display_address'].value_counts() >= 15].index)\n",
    "clean['top_addresses'] = clean['display_address'].where(clean['display_address'].isin(top_addresses), other='other')\n",
    "clean = clean.join(pd.get_dummies(clean['top_addresses'], prefix='address_'))\n"
   ]
  },
  {
   "cell_type": "code",
   "execution_count": 26,
   "metadata": {
    "colab": {
     "base_uri": "https://localhost:8080/",
     "height": 230
    },
    "colab_type": "code",
    "id": "HGXERBk40IpE",
    "outputId": "fe3c5624-1344-4bed-d2d3-2ac0711ef9a1"
   },
   "outputs": [
    {
     "data": {
      "text/plain": [
       "other               16030\n",
       "broadway              439\n",
       "east 34th street      355\n",
       "second avenue         351\n",
       "wall street           336\n",
       "                    ...  \n",
       "e 16th st.             15\n",
       "w 77 street            15\n",
       "e 33 st.               15\n",
       "east 48th street       15\n",
       "dekalb ave.            15\n",
       "Name: top_addresses, Length: 676, dtype: int64"
      ]
     },
     "execution_count": 26,
     "metadata": {
      "tags": []
     },
     "output_type": "execute_result"
    }
   ],
   "source": [
    "# Dsiplaying the top adrresses\n",
    "clean['top_addresses'].value_counts()"
   ]
  },
  {
   "cell_type": "code",
   "execution_count": 27,
   "metadata": {
    "colab": {
     "base_uri": "https://localhost:8080/",
     "height": 230
    },
    "colab_type": "code",
    "id": "2bulEhrQ4TPC",
    "outputId": "78ee3990-cfc2-4e87-fcce-5dfb4867c6ad"
   },
   "outputs": [
    {
     "data": {
      "text/plain": [
       "0        6\n",
       "1        6\n",
       "2        4\n",
       "3        4\n",
       "4        4\n",
       "        ..\n",
       "49347    6\n",
       "49348    4\n",
       "49349    4\n",
       "49350    4\n",
       "49351    4\n",
       "Name: created_dt, Length: 48817, dtype: int64"
      ]
     },
     "execution_count": 27,
     "metadata": {
      "tags": []
     },
     "output_type": "execute_result"
    }
   ],
   "source": [
    "# Date and time\n",
    "clean['created_dt'].dt.month"
   ]
  },
  {
   "cell_type": "code",
   "execution_count": 35,
   "metadata": {
    "colab": {},
    "colab_type": "code",
    "id": "wbTj_MwM4wwa"
   },
   "outputs": [],
   "source": [
    "import sklearn.model_selection as model_selection\n",
    "\n",
    "# Using data from april and may for train n june for test\n",
    "train = clean[(clean['created_dt'].dt.month==4) | (clean['created_dt'].dt.month==5)]\n",
    "test = clean[clean['created_dt'].dt.month==6]"
   ]
  },
  {
   "cell_type": "code",
   "execution_count": 30,
   "metadata": {
    "colab": {},
    "colab_type": "code",
    "id": "Oc8aB1k55bou"
   },
   "outputs": [],
   "source": [
    "## Arranging the target and feature matrix n vector\n",
    "target = 'price'\n",
    "features = clean.columns[clean.dtypes!='object']\n",
    "features = features.drop(target)\n",
    "features = features.drop('created_dt')"
   ]
  },
  {
   "cell_type": "code",
   "execution_count": 32,
   "metadata": {
    "colab": {
     "base_uri": "https://localhost:8080/",
     "height": 34
    },
    "colab_type": "code",
    "id": "iBv992Rt8c41",
    "outputId": "4a9ab218-d5a1-40e1-ba16-ef2e8bbcd288"
   },
   "outputs": [
    {
     "data": {
      "text/plain": [
       "LinearRegression(copy_X=True, fit_intercept=True, n_jobs=None, normalize=False)"
      ]
     },
     "execution_count": 32,
     "metadata": {
      "tags": []
     },
     "output_type": "execute_result"
    }
   ],
   "source": [
    "from sklearn.linear_model import LinearRegression\n",
    "import numpy\n",
    "\n",
    "# Instantiating the class\n",
    "lr_model = LinearRegression()\n",
    "# Fitting the model to the training data\n",
    "lr_model.fit(train[features],train[target])"
   ]
  },
  {
   "cell_type": "code",
   "execution_count": 37,
   "metadata": {
    "colab": {
     "base_uri": "https://localhost:8080/",
     "height": 34
    },
    "colab_type": "code",
    "id": "dIOvZP3u-2Ci",
    "outputId": "e0e2490d-0f9a-48d5-a025-883f8c707336"
   },
   "outputs": [
    {
     "data": {
      "text/plain": [
       "1554.2938564162596"
      ]
     },
     "execution_count": 37,
     "metadata": {
      "tags": []
     },
     "output_type": "execute_result"
    }
   ],
   "source": [
    "# model coef\n",
    "lr_model.coef_[0]"
   ]
  },
  {
   "cell_type": "code",
   "execution_count": 38,
   "metadata": {
    "colab": {
     "base_uri": "https://localhost:8080/",
     "height": 34
    },
    "colab_type": "code",
    "id": "bO9lKwQq_Bqe",
    "outputId": "8c6429c0-5553-463a-9374-910510bd3b24"
   },
   "outputs": [
    {
     "data": {
      "text/plain": [
       "-1054437.3808086866"
      ]
     },
     "execution_count": 38,
     "metadata": {
      "tags": []
     },
     "output_type": "execute_result"
    }
   ],
   "source": [
    "# model intercept\n",
    "lr_model.intercept_"
   ]
  },
  {
   "cell_type": "code",
   "execution_count": 42,
   "metadata": {
    "colab": {
     "base_uri": "https://localhost:8080/",
     "height": 372
    },
    "colab_type": "code",
    "id": "IuSlSJnu9Ld8",
    "outputId": "16628059-d9af-4128-af1e-17d6ae6860aa"
   },
   "outputs": [
    {
     "name": "stdout",
     "output_type": "stream",
     "text": [
      "Features: \n",
      "Index(['bathrooms', 'bedrooms', 'latitude', 'longitude', 'elevator',\n",
      "       'cats_allowed', 'hardwood_floors', 'dogs_allowed', 'doorman',\n",
      "       'dishwasher',\n",
      "       ...\n",
      "       'address__west houston street', 'address__west st', 'address__west st.',\n",
      "       'address__west street', 'address__williamsburg', 'address__worth',\n",
      "       'address__worth street', 'address__york ave', 'address__york ave.',\n",
      "       'address__york avenue'],\n",
      "      dtype='object', length=707)\n",
      "\n",
      "Baseline Root Mean Squared Error: 1762.4127206231178\n",
      "Baseline Mean Absolute Error: 1201.532252154329\n",
      "Baseline R^2 score: 0.0\n",
      "Train Root Mean Squared Error: 960.0093212890665\n",
      "Train Mean Absolute Error: 603.0311325133185\n",
      "Train R^2 score: 0.7031853392985251\n",
      "Test Root Mean Squared Error: 963.7690571199786\n",
      "Test Mean Absolute Error: 626.3262220640404\n",
      "Test R^2 score: 0.701144002755262\n"
     ]
    }
   ],
   "source": [
    "import sklearn.metrics as metrics\n",
    "\n",
    "y_train = lr_model.predict(train[features])\n",
    "y_test = lr_model.predict(test[features])\n",
    "\n",
    "# Getting regression metric of rmse, mae, n r**2 for train\n",
    "train_rmse = numpy.sqrt(metrics.mean_squared_error(train[target], y_train))\n",
    "train_mae = metrics.mean_absolute_error(train[target], y_train)\n",
    "train_r2 = metrics.r2_score(train[target], y_train)\n",
    "\n",
    "# Getting regression metric of rmse, mae, n r**2 for test\n",
    "test_rmse = numpy.sqrt(metrics.mean_squared_error(test[target], y_test))\n",
    "test_mae = metrics.mean_absolute_error(test[target], y_test)\n",
    "test_r2 = metrics.r2_score(test[target], y_test)\n",
    "\n",
    "# Baseline MAE test\n",
    "mean = numpy.mean(clean[target])\n",
    "baseline_rmse = numpy.sqrt(metrics.mean_squared_error(clean[target],numpy.linspace(mean, mean, len(clean[target]))))\n",
    "baseline_mae = metrics.mean_absolute_error(clean[target], numpy.linspace(mean, mean, len(clean[target])))\n",
    "baseline_r2 = metrics.r2_score(clean[target],numpy.linspace(mean, mean, len(clean[target])))\n",
    "\n",
    "print(f'Features: \\n{features}\\n')\n",
    "print(f'Baseline Root Mean Squared Error: {baseline_rmse}')\n",
    "print(f'Baseline Mean Absolute Error: {baseline_mae}')\n",
    "print(f'Baseline R^2 score: {baseline_r2}')\n",
    "print(f'Train Root Mean Squared Error: {train_rmse}')\n",
    "print(f'Train Mean Absolute Error: {train_mae}')\n",
    "print(f'Train R^2 score: {train_r2}')\n",
    "print(f'Test Root Mean Squared Error: {test_rmse}')\n",
    "print(f'Test Mean Absolute Error: {test_mae}')\n",
    "print(f'Test R^2 score: {test_r2}')"
   ]
  }
 ],
 "metadata": {
  "colab": {
   "name": "ASA-LS_DS_212_assignment.ipynb",
   "provenance": []
  },
  "kernelspec": {
   "display_name": "Python 3",
   "language": "python",
   "name": "python3"
  },
  "language_info": {
   "codemirror_mode": {
    "name": "ipython",
    "version": 3
   },
   "file_extension": ".py",
   "mimetype": "text/x-python",
   "name": "python",
   "nbconvert_exporter": "python",
   "pygments_lexer": "ipython3",
   "version": "3.8.2"
  }
 },
 "nbformat": 4,
 "nbformat_minor": 1
}
