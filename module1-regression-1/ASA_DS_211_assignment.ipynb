{
  "nbformat": 4,
  "nbformat_minor": 0,
  "metadata": {
    "kernelspec": {
      "display_name": "Python 3",
      "language": "python",
      "name": "python3"
    },
    "language_info": {
      "codemirror_mode": {
        "name": "ipython",
        "version": 3
      },
      "file_extension": ".py",
      "mimetype": "text/x-python",
      "name": "python",
      "nbconvert_exporter": "python",
      "pygments_lexer": "ipython3",
      "version": "3.7.3"
    },
    "colab": {
      "name": "ASA_DS_211_assignment.ipynb",
      "provenance": [],
      "collapsed_sections": [],
      "include_colab_link": true
    }
  },
  "cells": [
    {
      "cell_type": "markdown",
      "metadata": {
        "id": "view-in-github",
        "colab_type": "text"
      },
      "source": [
        "<a href=\"https://colab.research.google.com/github/Techvolutions05/DS-Unit-2-Linear-Models/blob/master/module1-regression-1/ASA_DS_211_assignment.ipynb\" target=\"_parent\"><img src=\"https://colab.research.google.com/assets/colab-badge.svg\" alt=\"Open In Colab\"/></a>"
      ]
    },
    {
      "cell_type": "markdown",
      "metadata": {
        "id": "Uzgmz3vcS5Qm",
        "colab_type": "text"
      },
      "source": [
        "Lambda School Data Science\n",
        "\n",
        "*Unit 2, Sprint 1, Module 1*\n",
        "\n",
        "---"
      ]
    },
    {
      "cell_type": "markdown",
      "metadata": {
        "colab_type": "text",
        "id": "7IXUfiQ2UKj6"
      },
      "source": [
        "# Regression 1\n",
        "\n",
        "## Assignment\n",
        "\n",
        "You'll use another **New York City** real estate dataset. \n",
        "\n",
        "But now you'll **predict how much it costs to rent an apartment**, instead of how much it costs to buy a condo.\n",
        "\n",
        "The data comes from renthop.com, an apartment listing website.\n",
        "\n",
        "- [ ] Look at the data. Choose a feature, and plot its relationship with the target.\n",
        "- [ ] Use scikit-learn for linear regression with one feature. You can follow the [5-step process from Jake VanderPlas](https://jakevdp.github.io/PythonDataScienceHandbook/05.02-introducing-scikit-learn.html#Basics-of-the-API).\n",
        "- [ ] Define a function to make new predictions and explain the model coefficient.\n",
        "- [ ] Organize and comment your code.\n",
        "\n",
        "> [Do Not Copy-Paste.](https://docs.google.com/document/d/1ubOw9B3Hfip27hF2ZFnW3a3z9xAgrUDRReOEo-FHCVs/edit) You must type each of these exercises in, manually. If you copy and paste, you might as well not even do them. The point of these exercises is to train your hands, your brain, and your mind in how to read, write, and see code. If you copy-paste, you are cheating yourself out of the effectiveness of the lessons.\n",
        "\n",
        "If your **Plotly** visualizations aren't working:\n",
        "- You must have JavaScript enabled in your browser\n",
        "- You probably want to use Chrome or Firefox\n",
        "- You may need to turn off ad blockers\n",
        "- [If you're using Jupyter Lab locally, you need to install some \"extensions\"](https://plot.ly/python/getting-started/#jupyterlab-support-python-35)\n",
        "\n",
        "## Stretch Goals\n",
        "- [ ] Do linear regression with two or more features.\n",
        "- [ ] Read [The Discovery of Statistical Regression](https://priceonomics.com/the-discovery-of-statistical-regression/)\n",
        "- [ ] Read [_An Introduction to Statistical Learning_](http://faculty.marshall.usc.edu/gareth-james/ISL/ISLR%20Seventh%20Printing.pdf), Chapter 2.1: What Is Statistical Learning?"
      ]
    },
    {
      "cell_type": "code",
      "metadata": {
        "colab_type": "code",
        "id": "o9eSnDYhUGD7",
        "colab": {}
      },
      "source": [
        "import sys\n",
        "\n",
        "# If you're on Colab:\n",
        "if 'google.colab' in sys.modules:\n",
        "    DATA_PATH = 'https://raw.githubusercontent.com/LambdaSchool/DS-Unit-2-Applied-Modeling/master/data/'\n",
        "\n",
        "# If you're working locally:\n",
        "else:\n",
        "    DATA_PATH = '../data/'\n",
        "    \n",
        "# Ignore this Numpy warning when using Plotly Express:\n",
        "# FutureWarning: Method .ptp is deprecated and will be removed in a future version. Use numpy.ptp instead.\n",
        "import warnings\n",
        "warnings.filterwarnings(action='ignore', category=FutureWarning, module='numpy')"
      ],
      "execution_count": 234,
      "outputs": []
    },
    {
      "cell_type": "code",
      "metadata": {
        "colab_type": "code",
        "id": "4S2wXSrFV_g4",
        "colab": {}
      },
      "source": [
        "# Read New York City apartment rental listing data\n",
        "import pandas as pd\n",
        "df = pd.read_csv(DATA_PATH+'apartments/renthop-nyc.csv')\n",
        "assert df.shape == (49352, 34)"
      ],
      "execution_count": 235,
      "outputs": []
    },
    {
      "cell_type": "code",
      "metadata": {
        "id": "4c8hmNIPS5Q7",
        "colab_type": "code",
        "colab": {}
      },
      "source": [
        "# Remove outliers: \n",
        "# the most extreme 1% prices,\n",
        "# the most extreme .1% latitudes, &\n",
        "# the most extreme .1% longitudes\n",
        "df = df[(df['price'] >= 1375) & (df['price'] <= 15500) & \n",
        "        (df['latitude'] >=40.57) & (df['latitude'] < 40.99) &\n",
        "        (df['longitude'] >= -74.1) & (df['longitude'] <= -73.38)]"
      ],
      "execution_count": 236,
      "outputs": []
    },
    {
      "cell_type": "code",
      "metadata": {
        "id": "KJBcPfBinPFL",
        "colab_type": "code",
        "colab": {
          "base_uri": "https://localhost:8080/",
          "height": 745
        },
        "outputId": "51ad2a52-49ae-4e61-aab1-9687a7acb975"
      },
      "source": [
        "df.info()"
      ],
      "execution_count": 237,
      "outputs": [
        {
          "output_type": "stream",
          "text": [
            "<class 'pandas.core.frame.DataFrame'>\n",
            "Int64Index: 48818 entries, 0 to 49351\n",
            "Data columns (total 34 columns):\n",
            " #   Column                Non-Null Count  Dtype  \n",
            "---  ------                --------------  -----  \n",
            " 0   bathrooms             48818 non-null  float64\n",
            " 1   bedrooms              48818 non-null  int64  \n",
            " 2   created               48818 non-null  object \n",
            " 3   description           47393 non-null  object \n",
            " 4   display_address       48685 non-null  object \n",
            " 5   latitude              48818 non-null  float64\n",
            " 6   longitude             48818 non-null  float64\n",
            " 7   price                 48818 non-null  int64  \n",
            " 8   street_address        48808 non-null  object \n",
            " 9   interest_level        48818 non-null  object \n",
            " 10  elevator              48818 non-null  int64  \n",
            " 11  cats_allowed          48818 non-null  int64  \n",
            " 12  hardwood_floors       48818 non-null  int64  \n",
            " 13  dogs_allowed          48818 non-null  int64  \n",
            " 14  doorman               48818 non-null  int64  \n",
            " 15  dishwasher            48818 non-null  int64  \n",
            " 16  no_fee                48818 non-null  int64  \n",
            " 17  laundry_in_building   48818 non-null  int64  \n",
            " 18  fitness_center        48818 non-null  int64  \n",
            " 19  pre-war               48818 non-null  int64  \n",
            " 20  laundry_in_unit       48818 non-null  int64  \n",
            " 21  roof_deck             48818 non-null  int64  \n",
            " 22  outdoor_space         48818 non-null  int64  \n",
            " 23  dining_room           48818 non-null  int64  \n",
            " 24  high_speed_internet   48818 non-null  int64  \n",
            " 25  balcony               48818 non-null  int64  \n",
            " 26  swimming_pool         48818 non-null  int64  \n",
            " 27  new_construction      48818 non-null  int64  \n",
            " 28  terrace               48818 non-null  int64  \n",
            " 29  exclusive             48818 non-null  int64  \n",
            " 30  loft                  48818 non-null  int64  \n",
            " 31  garden_patio          48818 non-null  int64  \n",
            " 32  wheelchair_access     48818 non-null  int64  \n",
            " 33  common_outdoor_space  48818 non-null  int64  \n",
            "dtypes: float64(3), int64(26), object(5)\n",
            "memory usage: 13.0+ MB\n"
          ],
          "name": "stdout"
        }
      ]
    },
    {
      "cell_type": "code",
      "metadata": {
        "id": "an80BY1wmeTv",
        "colab_type": "code",
        "colab": {
          "base_uri": "https://localhost:8080/",
          "height": 501
        },
        "outputId": "85120281-a087-4ff4-9f74-bad604fd90b7"
      },
      "source": [
        "df.head()"
      ],
      "execution_count": 238,
      "outputs": [
        {
          "output_type": "execute_result",
          "data": {
            "text/html": [
              "<div>\n",
              "<style scoped>\n",
              "    .dataframe tbody tr th:only-of-type {\n",
              "        vertical-align: middle;\n",
              "    }\n",
              "\n",
              "    .dataframe tbody tr th {\n",
              "        vertical-align: top;\n",
              "    }\n",
              "\n",
              "    .dataframe thead th {\n",
              "        text-align: right;\n",
              "    }\n",
              "</style>\n",
              "<table border=\"1\" class=\"dataframe\">\n",
              "  <thead>\n",
              "    <tr style=\"text-align: right;\">\n",
              "      <th></th>\n",
              "      <th>bathrooms</th>\n",
              "      <th>bedrooms</th>\n",
              "      <th>created</th>\n",
              "      <th>description</th>\n",
              "      <th>display_address</th>\n",
              "      <th>latitude</th>\n",
              "      <th>longitude</th>\n",
              "      <th>price</th>\n",
              "      <th>street_address</th>\n",
              "      <th>interest_level</th>\n",
              "      <th>elevator</th>\n",
              "      <th>cats_allowed</th>\n",
              "      <th>hardwood_floors</th>\n",
              "      <th>dogs_allowed</th>\n",
              "      <th>doorman</th>\n",
              "      <th>dishwasher</th>\n",
              "      <th>no_fee</th>\n",
              "      <th>laundry_in_building</th>\n",
              "      <th>fitness_center</th>\n",
              "      <th>pre-war</th>\n",
              "      <th>laundry_in_unit</th>\n",
              "      <th>roof_deck</th>\n",
              "      <th>outdoor_space</th>\n",
              "      <th>dining_room</th>\n",
              "      <th>high_speed_internet</th>\n",
              "      <th>balcony</th>\n",
              "      <th>swimming_pool</th>\n",
              "      <th>new_construction</th>\n",
              "      <th>terrace</th>\n",
              "      <th>exclusive</th>\n",
              "      <th>loft</th>\n",
              "      <th>garden_patio</th>\n",
              "      <th>wheelchair_access</th>\n",
              "      <th>common_outdoor_space</th>\n",
              "    </tr>\n",
              "  </thead>\n",
              "  <tbody>\n",
              "    <tr>\n",
              "      <th>0</th>\n",
              "      <td>1.5</td>\n",
              "      <td>3</td>\n",
              "      <td>2016-06-24 07:54:24</td>\n",
              "      <td>A Brand New 3 Bedroom 1.5 bath ApartmentEnjoy ...</td>\n",
              "      <td>Metropolitan Avenue</td>\n",
              "      <td>40.7145</td>\n",
              "      <td>-73.9425</td>\n",
              "      <td>3000</td>\n",
              "      <td>792 Metropolitan Avenue</td>\n",
              "      <td>medium</td>\n",
              "      <td>0</td>\n",
              "      <td>0</td>\n",
              "      <td>0</td>\n",
              "      <td>0</td>\n",
              "      <td>0</td>\n",
              "      <td>0</td>\n",
              "      <td>0</td>\n",
              "      <td>0</td>\n",
              "      <td>0</td>\n",
              "      <td>0</td>\n",
              "      <td>0</td>\n",
              "      <td>0</td>\n",
              "      <td>0</td>\n",
              "      <td>0</td>\n",
              "      <td>0</td>\n",
              "      <td>0</td>\n",
              "      <td>0</td>\n",
              "      <td>0</td>\n",
              "      <td>0</td>\n",
              "      <td>0</td>\n",
              "      <td>0</td>\n",
              "      <td>0</td>\n",
              "      <td>0</td>\n",
              "      <td>0</td>\n",
              "    </tr>\n",
              "    <tr>\n",
              "      <th>1</th>\n",
              "      <td>1.0</td>\n",
              "      <td>2</td>\n",
              "      <td>2016-06-12 12:19:27</td>\n",
              "      <td></td>\n",
              "      <td>Columbus Avenue</td>\n",
              "      <td>40.7947</td>\n",
              "      <td>-73.9667</td>\n",
              "      <td>5465</td>\n",
              "      <td>808 Columbus Avenue</td>\n",
              "      <td>low</td>\n",
              "      <td>1</td>\n",
              "      <td>1</td>\n",
              "      <td>0</td>\n",
              "      <td>1</td>\n",
              "      <td>1</td>\n",
              "      <td>0</td>\n",
              "      <td>0</td>\n",
              "      <td>0</td>\n",
              "      <td>1</td>\n",
              "      <td>0</td>\n",
              "      <td>0</td>\n",
              "      <td>0</td>\n",
              "      <td>0</td>\n",
              "      <td>0</td>\n",
              "      <td>0</td>\n",
              "      <td>0</td>\n",
              "      <td>0</td>\n",
              "      <td>0</td>\n",
              "      <td>0</td>\n",
              "      <td>0</td>\n",
              "      <td>0</td>\n",
              "      <td>0</td>\n",
              "      <td>0</td>\n",
              "      <td>0</td>\n",
              "    </tr>\n",
              "    <tr>\n",
              "      <th>2</th>\n",
              "      <td>1.0</td>\n",
              "      <td>1</td>\n",
              "      <td>2016-04-17 03:26:41</td>\n",
              "      <td>Top Top West Village location, beautiful Pre-w...</td>\n",
              "      <td>W 13 Street</td>\n",
              "      <td>40.7388</td>\n",
              "      <td>-74.0018</td>\n",
              "      <td>2850</td>\n",
              "      <td>241 W 13 Street</td>\n",
              "      <td>high</td>\n",
              "      <td>0</td>\n",
              "      <td>0</td>\n",
              "      <td>1</td>\n",
              "      <td>0</td>\n",
              "      <td>0</td>\n",
              "      <td>1</td>\n",
              "      <td>0</td>\n",
              "      <td>1</td>\n",
              "      <td>0</td>\n",
              "      <td>0</td>\n",
              "      <td>0</td>\n",
              "      <td>0</td>\n",
              "      <td>0</td>\n",
              "      <td>0</td>\n",
              "      <td>0</td>\n",
              "      <td>0</td>\n",
              "      <td>0</td>\n",
              "      <td>0</td>\n",
              "      <td>0</td>\n",
              "      <td>0</td>\n",
              "      <td>0</td>\n",
              "      <td>0</td>\n",
              "      <td>0</td>\n",
              "      <td>0</td>\n",
              "    </tr>\n",
              "    <tr>\n",
              "      <th>3</th>\n",
              "      <td>1.0</td>\n",
              "      <td>1</td>\n",
              "      <td>2016-04-18 02:22:02</td>\n",
              "      <td>Building Amenities - Garage - Garden - fitness...</td>\n",
              "      <td>East 49th Street</td>\n",
              "      <td>40.7539</td>\n",
              "      <td>-73.9677</td>\n",
              "      <td>3275</td>\n",
              "      <td>333 East 49th Street</td>\n",
              "      <td>low</td>\n",
              "      <td>0</td>\n",
              "      <td>0</td>\n",
              "      <td>1</td>\n",
              "      <td>0</td>\n",
              "      <td>0</td>\n",
              "      <td>0</td>\n",
              "      <td>1</td>\n",
              "      <td>0</td>\n",
              "      <td>0</td>\n",
              "      <td>0</td>\n",
              "      <td>0</td>\n",
              "      <td>0</td>\n",
              "      <td>0</td>\n",
              "      <td>0</td>\n",
              "      <td>0</td>\n",
              "      <td>0</td>\n",
              "      <td>0</td>\n",
              "      <td>0</td>\n",
              "      <td>0</td>\n",
              "      <td>0</td>\n",
              "      <td>0</td>\n",
              "      <td>0</td>\n",
              "      <td>0</td>\n",
              "      <td>0</td>\n",
              "    </tr>\n",
              "    <tr>\n",
              "      <th>4</th>\n",
              "      <td>1.0</td>\n",
              "      <td>4</td>\n",
              "      <td>2016-04-28 01:32:41</td>\n",
              "      <td>Beautifully renovated 3 bedroom flex 4 bedroom...</td>\n",
              "      <td>West 143rd Street</td>\n",
              "      <td>40.8241</td>\n",
              "      <td>-73.9493</td>\n",
              "      <td>3350</td>\n",
              "      <td>500 West 143rd Street</td>\n",
              "      <td>low</td>\n",
              "      <td>0</td>\n",
              "      <td>0</td>\n",
              "      <td>0</td>\n",
              "      <td>0</td>\n",
              "      <td>0</td>\n",
              "      <td>0</td>\n",
              "      <td>0</td>\n",
              "      <td>0</td>\n",
              "      <td>0</td>\n",
              "      <td>1</td>\n",
              "      <td>0</td>\n",
              "      <td>0</td>\n",
              "      <td>0</td>\n",
              "      <td>0</td>\n",
              "      <td>0</td>\n",
              "      <td>0</td>\n",
              "      <td>0</td>\n",
              "      <td>0</td>\n",
              "      <td>0</td>\n",
              "      <td>0</td>\n",
              "      <td>0</td>\n",
              "      <td>0</td>\n",
              "      <td>0</td>\n",
              "      <td>0</td>\n",
              "    </tr>\n",
              "  </tbody>\n",
              "</table>\n",
              "</div>"
            ],
            "text/plain": [
              "   bathrooms  bedrooms  ... wheelchair_access common_outdoor_space\n",
              "0        1.5         3  ...                 0                    0\n",
              "1        1.0         2  ...                 0                    0\n",
              "2        1.0         1  ...                 0                    0\n",
              "3        1.0         1  ...                 0                    0\n",
              "4        1.0         4  ...                 0                    0\n",
              "\n",
              "[5 rows x 34 columns]"
            ]
          },
          "metadata": {
            "tags": []
          },
          "execution_count": 238
        }
      ]
    },
    {
      "cell_type": "code",
      "metadata": {
        "id": "eF2Gq0TJkZuH",
        "colab_type": "code",
        "colab": {
          "base_uri": "https://localhost:8080/",
          "height": 307
        },
        "outputId": "ad178252-18e4-4855-eea7-683244dbb090"
      },
      "source": [
        "# Describing the dataset\n",
        "df.describe()"
      ],
      "execution_count": 239,
      "outputs": [
        {
          "output_type": "execute_result",
          "data": {
            "text/html": [
              "<div>\n",
              "<style scoped>\n",
              "    .dataframe tbody tr th:only-of-type {\n",
              "        vertical-align: middle;\n",
              "    }\n",
              "\n",
              "    .dataframe tbody tr th {\n",
              "        vertical-align: top;\n",
              "    }\n",
              "\n",
              "    .dataframe thead th {\n",
              "        text-align: right;\n",
              "    }\n",
              "</style>\n",
              "<table border=\"1\" class=\"dataframe\">\n",
              "  <thead>\n",
              "    <tr style=\"text-align: right;\">\n",
              "      <th></th>\n",
              "      <th>bathrooms</th>\n",
              "      <th>bedrooms</th>\n",
              "      <th>latitude</th>\n",
              "      <th>longitude</th>\n",
              "      <th>price</th>\n",
              "      <th>elevator</th>\n",
              "      <th>cats_allowed</th>\n",
              "      <th>hardwood_floors</th>\n",
              "      <th>dogs_allowed</th>\n",
              "      <th>doorman</th>\n",
              "      <th>dishwasher</th>\n",
              "      <th>no_fee</th>\n",
              "      <th>laundry_in_building</th>\n",
              "      <th>fitness_center</th>\n",
              "      <th>pre-war</th>\n",
              "      <th>laundry_in_unit</th>\n",
              "      <th>roof_deck</th>\n",
              "      <th>outdoor_space</th>\n",
              "      <th>dining_room</th>\n",
              "      <th>high_speed_internet</th>\n",
              "      <th>balcony</th>\n",
              "      <th>swimming_pool</th>\n",
              "      <th>new_construction</th>\n",
              "      <th>terrace</th>\n",
              "      <th>exclusive</th>\n",
              "      <th>loft</th>\n",
              "      <th>garden_patio</th>\n",
              "      <th>wheelchair_access</th>\n",
              "      <th>common_outdoor_space</th>\n",
              "    </tr>\n",
              "  </thead>\n",
              "  <tbody>\n",
              "    <tr>\n",
              "      <th>count</th>\n",
              "      <td>48818.000000</td>\n",
              "      <td>48818.000000</td>\n",
              "      <td>48818.000000</td>\n",
              "      <td>48818.000000</td>\n",
              "      <td>48818.000000</td>\n",
              "      <td>48818.000000</td>\n",
              "      <td>48818.000000</td>\n",
              "      <td>48818.000000</td>\n",
              "      <td>48818.000000</td>\n",
              "      <td>48818.000000</td>\n",
              "      <td>48818.000000</td>\n",
              "      <td>48818.000000</td>\n",
              "      <td>48818.000000</td>\n",
              "      <td>48818.000000</td>\n",
              "      <td>48818.000000</td>\n",
              "      <td>48818.000000</td>\n",
              "      <td>48818.000000</td>\n",
              "      <td>48818.000000</td>\n",
              "      <td>48818.000000</td>\n",
              "      <td>48818.000000</td>\n",
              "      <td>48818.000000</td>\n",
              "      <td>48818.000000</td>\n",
              "      <td>48818.000000</td>\n",
              "      <td>48818.000000</td>\n",
              "      <td>48818.000000</td>\n",
              "      <td>48818.000000</td>\n",
              "      <td>48818.00000</td>\n",
              "      <td>48818.000000</td>\n",
              "      <td>48818.000000</td>\n",
              "    </tr>\n",
              "    <tr>\n",
              "      <th>mean</th>\n",
              "      <td>1.201790</td>\n",
              "      <td>1.537158</td>\n",
              "      <td>40.750756</td>\n",
              "      <td>-73.972758</td>\n",
              "      <td>3579.560982</td>\n",
              "      <td>0.524827</td>\n",
              "      <td>0.478266</td>\n",
              "      <td>0.478266</td>\n",
              "      <td>0.447622</td>\n",
              "      <td>0.424843</td>\n",
              "      <td>0.415072</td>\n",
              "      <td>0.367078</td>\n",
              "      <td>0.052767</td>\n",
              "      <td>0.268446</td>\n",
              "      <td>0.185649</td>\n",
              "      <td>0.175898</td>\n",
              "      <td>0.132758</td>\n",
              "      <td>0.138392</td>\n",
              "      <td>0.102831</td>\n",
              "      <td>0.087201</td>\n",
              "      <td>0.060469</td>\n",
              "      <td>0.055205</td>\n",
              "      <td>0.051907</td>\n",
              "      <td>0.046192</td>\n",
              "      <td>0.043304</td>\n",
              "      <td>0.042710</td>\n",
              "      <td>0.03933</td>\n",
              "      <td>0.027224</td>\n",
              "      <td>0.026240</td>\n",
              "    </tr>\n",
              "    <tr>\n",
              "      <th>std</th>\n",
              "      <td>0.470707</td>\n",
              "      <td>1.106078</td>\n",
              "      <td>0.038962</td>\n",
              "      <td>0.028887</td>\n",
              "      <td>1762.420875</td>\n",
              "      <td>0.499388</td>\n",
              "      <td>0.499533</td>\n",
              "      <td>0.499533</td>\n",
              "      <td>0.497254</td>\n",
              "      <td>0.494324</td>\n",
              "      <td>0.492740</td>\n",
              "      <td>0.482013</td>\n",
              "      <td>0.223571</td>\n",
              "      <td>0.443156</td>\n",
              "      <td>0.388827</td>\n",
              "      <td>0.380737</td>\n",
              "      <td>0.339317</td>\n",
              "      <td>0.345314</td>\n",
              "      <td>0.303741</td>\n",
              "      <td>0.282133</td>\n",
              "      <td>0.238357</td>\n",
              "      <td>0.228382</td>\n",
              "      <td>0.221842</td>\n",
              "      <td>0.209903</td>\n",
              "      <td>0.203542</td>\n",
              "      <td>0.202204</td>\n",
              "      <td>0.19438</td>\n",
              "      <td>0.162736</td>\n",
              "      <td>0.159851</td>\n",
              "    </tr>\n",
              "    <tr>\n",
              "      <th>min</th>\n",
              "      <td>0.000000</td>\n",
              "      <td>0.000000</td>\n",
              "      <td>40.571200</td>\n",
              "      <td>-74.087300</td>\n",
              "      <td>1375.000000</td>\n",
              "      <td>0.000000</td>\n",
              "      <td>0.000000</td>\n",
              "      <td>0.000000</td>\n",
              "      <td>0.000000</td>\n",
              "      <td>0.000000</td>\n",
              "      <td>0.000000</td>\n",
              "      <td>0.000000</td>\n",
              "      <td>0.000000</td>\n",
              "      <td>0.000000</td>\n",
              "      <td>0.000000</td>\n",
              "      <td>0.000000</td>\n",
              "      <td>0.000000</td>\n",
              "      <td>0.000000</td>\n",
              "      <td>0.000000</td>\n",
              "      <td>0.000000</td>\n",
              "      <td>0.000000</td>\n",
              "      <td>0.000000</td>\n",
              "      <td>0.000000</td>\n",
              "      <td>0.000000</td>\n",
              "      <td>0.000000</td>\n",
              "      <td>0.000000</td>\n",
              "      <td>0.00000</td>\n",
              "      <td>0.000000</td>\n",
              "      <td>0.000000</td>\n",
              "    </tr>\n",
              "    <tr>\n",
              "      <th>25%</th>\n",
              "      <td>1.000000</td>\n",
              "      <td>1.000000</td>\n",
              "      <td>40.728300</td>\n",
              "      <td>-73.991800</td>\n",
              "      <td>2500.000000</td>\n",
              "      <td>0.000000</td>\n",
              "      <td>0.000000</td>\n",
              "      <td>0.000000</td>\n",
              "      <td>0.000000</td>\n",
              "      <td>0.000000</td>\n",
              "      <td>0.000000</td>\n",
              "      <td>0.000000</td>\n",
              "      <td>0.000000</td>\n",
              "      <td>0.000000</td>\n",
              "      <td>0.000000</td>\n",
              "      <td>0.000000</td>\n",
              "      <td>0.000000</td>\n",
              "      <td>0.000000</td>\n",
              "      <td>0.000000</td>\n",
              "      <td>0.000000</td>\n",
              "      <td>0.000000</td>\n",
              "      <td>0.000000</td>\n",
              "      <td>0.000000</td>\n",
              "      <td>0.000000</td>\n",
              "      <td>0.000000</td>\n",
              "      <td>0.000000</td>\n",
              "      <td>0.00000</td>\n",
              "      <td>0.000000</td>\n",
              "      <td>0.000000</td>\n",
              "    </tr>\n",
              "    <tr>\n",
              "      <th>50%</th>\n",
              "      <td>1.000000</td>\n",
              "      <td>1.000000</td>\n",
              "      <td>40.751700</td>\n",
              "      <td>-73.978000</td>\n",
              "      <td>3150.000000</td>\n",
              "      <td>1.000000</td>\n",
              "      <td>0.000000</td>\n",
              "      <td>0.000000</td>\n",
              "      <td>0.000000</td>\n",
              "      <td>0.000000</td>\n",
              "      <td>0.000000</td>\n",
              "      <td>0.000000</td>\n",
              "      <td>0.000000</td>\n",
              "      <td>0.000000</td>\n",
              "      <td>0.000000</td>\n",
              "      <td>0.000000</td>\n",
              "      <td>0.000000</td>\n",
              "      <td>0.000000</td>\n",
              "      <td>0.000000</td>\n",
              "      <td>0.000000</td>\n",
              "      <td>0.000000</td>\n",
              "      <td>0.000000</td>\n",
              "      <td>0.000000</td>\n",
              "      <td>0.000000</td>\n",
              "      <td>0.000000</td>\n",
              "      <td>0.000000</td>\n",
              "      <td>0.00000</td>\n",
              "      <td>0.000000</td>\n",
              "      <td>0.000000</td>\n",
              "    </tr>\n",
              "    <tr>\n",
              "      <th>75%</th>\n",
              "      <td>1.000000</td>\n",
              "      <td>2.000000</td>\n",
              "      <td>40.774000</td>\n",
              "      <td>-73.955000</td>\n",
              "      <td>4095.000000</td>\n",
              "      <td>1.000000</td>\n",
              "      <td>1.000000</td>\n",
              "      <td>1.000000</td>\n",
              "      <td>1.000000</td>\n",
              "      <td>1.000000</td>\n",
              "      <td>1.000000</td>\n",
              "      <td>1.000000</td>\n",
              "      <td>0.000000</td>\n",
              "      <td>1.000000</td>\n",
              "      <td>0.000000</td>\n",
              "      <td>0.000000</td>\n",
              "      <td>0.000000</td>\n",
              "      <td>0.000000</td>\n",
              "      <td>0.000000</td>\n",
              "      <td>0.000000</td>\n",
              "      <td>0.000000</td>\n",
              "      <td>0.000000</td>\n",
              "      <td>0.000000</td>\n",
              "      <td>0.000000</td>\n",
              "      <td>0.000000</td>\n",
              "      <td>0.000000</td>\n",
              "      <td>0.00000</td>\n",
              "      <td>0.000000</td>\n",
              "      <td>0.000000</td>\n",
              "    </tr>\n",
              "    <tr>\n",
              "      <th>max</th>\n",
              "      <td>10.000000</td>\n",
              "      <td>8.000000</td>\n",
              "      <td>40.989400</td>\n",
              "      <td>-73.700100</td>\n",
              "      <td>15500.000000</td>\n",
              "      <td>1.000000</td>\n",
              "      <td>1.000000</td>\n",
              "      <td>1.000000</td>\n",
              "      <td>1.000000</td>\n",
              "      <td>1.000000</td>\n",
              "      <td>1.000000</td>\n",
              "      <td>1.000000</td>\n",
              "      <td>1.000000</td>\n",
              "      <td>1.000000</td>\n",
              "      <td>1.000000</td>\n",
              "      <td>1.000000</td>\n",
              "      <td>1.000000</td>\n",
              "      <td>1.000000</td>\n",
              "      <td>1.000000</td>\n",
              "      <td>1.000000</td>\n",
              "      <td>1.000000</td>\n",
              "      <td>1.000000</td>\n",
              "      <td>1.000000</td>\n",
              "      <td>1.000000</td>\n",
              "      <td>1.000000</td>\n",
              "      <td>1.000000</td>\n",
              "      <td>1.00000</td>\n",
              "      <td>1.000000</td>\n",
              "      <td>1.000000</td>\n",
              "    </tr>\n",
              "  </tbody>\n",
              "</table>\n",
              "</div>"
            ],
            "text/plain": [
              "          bathrooms      bedrooms  ...  wheelchair_access  common_outdoor_space\n",
              "count  48818.000000  48818.000000  ...       48818.000000          48818.000000\n",
              "mean       1.201790      1.537158  ...           0.027224              0.026240\n",
              "std        0.470707      1.106078  ...           0.162736              0.159851\n",
              "min        0.000000      0.000000  ...           0.000000              0.000000\n",
              "25%        1.000000      1.000000  ...           0.000000              0.000000\n",
              "50%        1.000000      1.000000  ...           0.000000              0.000000\n",
              "75%        1.000000      2.000000  ...           0.000000              0.000000\n",
              "max       10.000000      8.000000  ...           1.000000              1.000000\n",
              "\n",
              "[8 rows x 29 columns]"
            ]
          },
          "metadata": {
            "tags": []
          },
          "execution_count": 239
        }
      ]
    },
    {
      "cell_type": "code",
      "metadata": {
        "id": "UizoCp-gkbok",
        "colab_type": "code",
        "colab": {
          "base_uri": "https://localhost:8080/",
          "height": 638
        },
        "outputId": "525dc278-f96b-4c5c-9e26-9002597e7343"
      },
      "source": [
        "# Checking for null values\n",
        "\n",
        "df.isnull().sum()"
      ],
      "execution_count": 240,
      "outputs": [
        {
          "output_type": "execute_result",
          "data": {
            "text/plain": [
              "bathrooms                  0\n",
              "bedrooms                   0\n",
              "created                    0\n",
              "description             1425\n",
              "display_address          133\n",
              "latitude                   0\n",
              "longitude                  0\n",
              "price                      0\n",
              "street_address            10\n",
              "interest_level             0\n",
              "elevator                   0\n",
              "cats_allowed               0\n",
              "hardwood_floors            0\n",
              "dogs_allowed               0\n",
              "doorman                    0\n",
              "dishwasher                 0\n",
              "no_fee                     0\n",
              "laundry_in_building        0\n",
              "fitness_center             0\n",
              "pre-war                    0\n",
              "laundry_in_unit            0\n",
              "roof_deck                  0\n",
              "outdoor_space              0\n",
              "dining_room                0\n",
              "high_speed_internet        0\n",
              "balcony                    0\n",
              "swimming_pool              0\n",
              "new_construction           0\n",
              "terrace                    0\n",
              "exclusive                  0\n",
              "loft                       0\n",
              "garden_patio               0\n",
              "wheelchair_access          0\n",
              "common_outdoor_space       0\n",
              "dtype: int64"
            ]
          },
          "metadata": {
            "tags": []
          },
          "execution_count": 240
        }
      ]
    },
    {
      "cell_type": "code",
      "metadata": {
        "id": "fvjVyHfjnGAj",
        "colab_type": "code",
        "colab": {}
      },
      "source": [
        "# Replacing the column 'interest_lvl' from obj go int.\n",
        "\n",
        "df['interest_num'] =  df['interest_level'].replace({'low': 1, 'medium': 2, 'high': 3})"
      ],
      "execution_count": 241,
      "outputs": []
    },
    {
      "cell_type": "code",
      "metadata": {
        "id": "pYu9TcN_s7Kg",
        "colab_type": "code",
        "colab": {
          "base_uri": "https://localhost:8080/",
          "height": 567
        },
        "outputId": "4a8531b5-1ca6-47ba-ab4b-d1bdb4b0db0d"
      },
      "source": [
        "# Arranging the target and feature matrix n vector\n",
        "target = 'price'\n",
        "features = df.columns[df.dtypes!='object']\n",
        "feature = features.drop(target)\n",
        "df[features].isna().sum()"
      ],
      "execution_count": 242,
      "outputs": [
        {
          "output_type": "execute_result",
          "data": {
            "text/plain": [
              "bathrooms               0\n",
              "bedrooms                0\n",
              "latitude                0\n",
              "longitude               0\n",
              "price                   0\n",
              "elevator                0\n",
              "cats_allowed            0\n",
              "hardwood_floors         0\n",
              "dogs_allowed            0\n",
              "doorman                 0\n",
              "dishwasher              0\n",
              "no_fee                  0\n",
              "laundry_in_building     0\n",
              "fitness_center          0\n",
              "pre-war                 0\n",
              "laundry_in_unit         0\n",
              "roof_deck               0\n",
              "outdoor_space           0\n",
              "dining_room             0\n",
              "high_speed_internet     0\n",
              "balcony                 0\n",
              "swimming_pool           0\n",
              "new_construction        0\n",
              "terrace                 0\n",
              "exclusive               0\n",
              "loft                    0\n",
              "garden_patio            0\n",
              "wheelchair_access       0\n",
              "common_outdoor_space    0\n",
              "interest_num            0\n",
              "dtype: int64"
            ]
          },
          "metadata": {
            "tags": []
          },
          "execution_count": 242
        }
      ]
    },
    {
      "cell_type": "code",
      "metadata": {
        "id": "Gm5Buanwzq5h",
        "colab_type": "code",
        "colab": {}
      },
      "source": [
        "from sklearn.model_selection import train_test_split\n",
        "from sklearn.linear_model import LinearRegression\n",
        "x = df[feature]\n",
        "y = df[target]\n",
        "\n",
        "# Creating a train-test split\n",
        "\n",
        "X_train, X_test, y_train, y_test = train_test_split(x, y, test_size=0.2, random_state=42)"
      ],
      "execution_count": 243,
      "outputs": []
    },
    {
      "cell_type": "code",
      "metadata": {
        "id": "R_6Rpfa4uU06",
        "colab_type": "code",
        "colab": {
          "base_uri": "https://localhost:8080/",
          "height": 34
        },
        "outputId": "9ed433ed-d80f-4af0-fdfc-aa6496b3647f"
      },
      "source": [
        "# Instantiating the class\n",
        "\n",
        "lr = LinearRegression()\n",
        "\n",
        "# Fitting the model to the training data\n",
        "lr.fit(X_train, y_train)"
      ],
      "execution_count": 244,
      "outputs": [
        {
          "output_type": "execute_result",
          "data": {
            "text/plain": [
              "LinearRegression(copy_X=True, fit_intercept=True, n_jobs=None, normalize=False)"
            ]
          },
          "metadata": {
            "tags": []
          },
          "execution_count": 244
        }
      ]
    },
    {
      "cell_type": "code",
      "metadata": {
        "id": "PwVNFFrEvrDh",
        "colab_type": "code",
        "colab": {
          "base_uri": "https://localhost:8080/",
          "height": 52
        },
        "outputId": "19fcc8b0-4484-458e-e551-64b9d474779d"
      },
      "source": [
        "import sklearn.metrics as metrics\n",
        "from sklearn.metrics import mean_absolute_error\n",
        "\n",
        "# Printing the MAE of training and testing\n",
        "\n",
        "print(' The training MAE:', mean_absolute_error(y_train, lr.predict(X_train)))\n",
        "print('The testing MAE:', mean_absolute_error(y_test, lr.predict(X_test)))"
      ],
      "execution_count": 245,
      "outputs": [
        {
          "output_type": "stream",
          "text": [
            " The training MAE: 675.964076005644\n",
            "The testing MAE: 680.5383606010952\n"
          ],
          "name": "stdout"
        }
      ]
    },
    {
      "cell_type": "code",
      "metadata": {
        "id": "UQpfC2i8--N8",
        "colab_type": "code",
        "colab": {
          "base_uri": "https://localhost:8080/",
          "height": 34
        },
        "outputId": "9a43a9e4-b035-49d5-8b7e-a2b1e179c4ae"
      },
      "source": [
        "lr.coef_[0]"
      ],
      "execution_count": 246,
      "outputs": [
        {
          "output_type": "execute_result",
          "data": {
            "text/plain": [
              "1740.2834030198487"
            ]
          },
          "metadata": {
            "tags": []
          },
          "execution_count": 246
        }
      ]
    },
    {
      "cell_type": "code",
      "metadata": {
        "id": "oO2nvxaA_Ka3",
        "colab_type": "code",
        "colab": {
          "base_uri": "https://localhost:8080/",
          "height": 34
        },
        "outputId": "6d21e0b1-2a43-49aa-9494-e1d377251357"
      },
      "source": [
        "lr.intercept_"
      ],
      "execution_count": 247,
      "outputs": [
        {
          "output_type": "execute_result",
          "data": {
            "text/plain": [
              "-1018594.8929710706"
            ]
          },
          "metadata": {
            "tags": []
          },
          "execution_count": 247
        }
      ]
    },
    {
      "cell_type": "code",
      "metadata": {
        "id": "8TCUBtayv2Ve",
        "colab_type": "code",
        "colab": {}
      },
      "source": [
        "# I was trying to use the function provided in lecture but \n",
        "# wasnt able to get it to work. left it here to look at it later on.\n",
        "\n",
        "# def predict(feature):\n",
        "#     y_pred = lr.predict([df[feature]])\n",
        "#     estimate = y_pred[0]\n",
        "#     coefficient = lr.coef_[0]\n",
        "#     result = f'${estimate:,.0f} estimated price for {feature:,.0f} square foot condo in Tribeca.'\n",
        "#     explanation = f'In this linear regression, each additional square foot adds ${coefficient:,.0f}.'\n",
        "#     return result + '\\n' + explanation\n",
        "\n",
        "# print(predict())"
      ],
      "execution_count": 248,
      "outputs": []
    },
    {
      "cell_type": "code",
      "metadata": {
        "id": "Wl2_M8HDP5QD",
        "colab_type": "code",
        "colab": {}
      },
      "source": [
        "def do_regression(df, features, target):\n",
        "\tlr_model = LinearRegression()\n",
        "\tlr_model.fit(df[features],df[target])\n",
        "\ty_pred = lr_model.predict(df[features])\n",
        "\tmse = metrics.mean_squared_error(df[target], y_pred)\n",
        "\tr2 = metrics.r2_score(df[target], y_pred)\n",
        "\treturn(lr_model, mse, r2)\n",
        "\n",
        "for feature in features:\n",
        "\tmodel, mse, r2 = do_regression(df, [feature], target)\n",
        "\tprint(f'{target} changes by {model.coef_} as {feature} increases.')\n",
        "\tprint(f'Mean Squared Error for this relationship: {mse}')\n",
        "\tprint(f'R^2 score for this relationship: {r2}\\n')"
      ],
      "execution_count": null,
      "outputs": []
    },
    {
      "cell_type": "code",
      "metadata": {
        "id": "pOjRQqy9Ughj",
        "colab_type": "code",
        "colab": {
          "base_uri": "https://localhost:8080/",
          "height": 617
        },
        "outputId": "d94f97c9-918b-4510-c5cd-d20787358788"
      },
      "source": [
        "import matplotlib.pyplot as pyplot\n",
        "\n",
        "# Plotting the rent price as bathrooms increases.\n",
        "pyplot.rcParams['figure.facecolor'] = '#002B36'\n",
        "pyplot.rcParams['axes.facecolor'] = 'black'\n",
        "\n",
        "\n",
        "boxen = df.boxplot(target, \n",
        "\t\t\t\t\tby='bathrooms', \n",
        "\t\t\t\t\tpatch_artist=True,\n",
        "\t\t\t\t\treturn_type='dict',\n",
        "\t\t\t\t\tfigsize=(8,10))['price']\n",
        "\n",
        "for linetype in ['boxes', 'whiskers', 'fliers', 'medians', 'caps']:\n",
        "\tpyplot.setp(boxen[linetype], color='crimson', linewidth=4)\n",
        "\n",
        "pyplot.setp(boxen['boxes'], facecolor='white')\n",
        "pyplot.setp(boxen['fliers'], markeredgecolor='crimson')\n",
        "pyplot.grid(color='#666666')\n",
        "pyplot.ylabel('price')\n",
        "pyplot.title('Price of apartments by bathroom count')\n",
        "pyplot.suptitle(None)\n",
        "\n",
        "pyplot.show()\n"
      ],
      "execution_count": 255,
      "outputs": [
        {
          "output_type": "display_data",
          "data": {
            "image/png": "[encoded data removed]",
            "text/plain": [
              "<Figure size 576x720 with 1 Axes>"
            ]
          },
          "metadata": {
            "tags": []
          }
        }
      ]
    }
  ]
}